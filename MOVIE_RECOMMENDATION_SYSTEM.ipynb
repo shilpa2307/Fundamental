{
  "nbformat": 4,
  "nbformat_minor": 0,
  "metadata": {
    "colab": {
      "provenance": [],
      "authorship_tag": "ABX9TyPiieL2D+XP2jGLT6s5LpjG",
      "include_colab_link": true
    },
    "kernelspec": {
      "name": "python3",
      "display_name": "Python 3"
    },
    "language_info": {
      "name": "python"
    }
  },
  "cells": [
    {
      "cell_type": "markdown",
      "metadata": {
        "id": "view-in-github",
        "colab_type": "text"
      },
      "source": [
        "<a href=\"https://colab.research.google.com/github/shilpa2307/Fundamental/blob/main/MOVIE_RECOMMENDATION_SYSTEM.ipynb\" target=\"_parent\"><img src=\"https://colab.research.google.com/assets/colab-badge.svg\" alt=\"Open In Colab\"/></a>"
      ]
    },
    {
      "cell_type": "markdown",
      "source": [
        "**MOVIE RECOMMENDATION SYSTEM**\n",
        "\n",
        "1. **A recommendation system** (or recommender system) is a class of machine learning that uses data to help predict, narrow down, and find what people are looking for among an exponentially growing number of options.\n",
        "2.  **Collaborative filtering**: Collaborative filtering approaches build a model from user’s past behavior (i.e. items purchased or searched by the user) as well as similar decisions made by other users. This model is then used to predict items (or ratings for items) that user may have an interest in.\n",
        "\n",
        "3. **Content-based filtering**: Content-based filtering approaches uses a series of discrete characteristics of an item in order to recommend additional items with similar properties. Content-based filtering methods are totally based on a description of the item and a profile of the user’s preferences. It recommends items based on user’s past preferences. Let’s develop a basic reco\n",
        "\n",
        "*let's Develop a Basic Recommendation System by suggesting items that are more similar particular item, in this case, movies . it just tells what movies/items are more similar to user's movie choice.   \n",
        "\n",
        "\n",
        "\n",
        "\n",
        "\n",
        "\n",
        "\n",
        "\n",
        "\n",
        "\n",
        "\n",
        "\n",
        "\n",
        "\n"
      ],
      "metadata": {
        "id": "QgaXZXBS9ybG"
      }
    },
    {
      "cell_type": "markdown",
      "source": [
        "**OBJECTIVE**\n",
        "\n",
        "\n",
        "1.   The primary goal of movie recommendation systems is to filter and predict only those movies that a corresponding user is most likely to want to watch. The ML algorithms for these recommendation systems use the data about this user from the system's database\n",
        "\n"
      ],
      "metadata": {
        "id": "6wzOD9V4PPbs"
      }
    },
    {
      "cell_type": "markdown",
      "source": [
        "**DATA SOURCE**\n",
        "\n",
        "\n",
        "1. **Box Office Mojo**\n",
        "  Online box-office reporting service, owned and operated by IMDb (Internet Movie Database)\n",
        "2. **NATO (National Association of Theatre Owners)**\n",
        "Movie theatre data, such as admissions and average ticket prices\n",
        "3. **The Numbers**\n",
        "Advertises itself as \"Where data and the movie business meet;\" includes movie budgets and fee-based \"Bankability Index\"\n",
        "4. **OpusData**\n",
        "Fee-based service, including data such as production budgets, video sales, detailed cast and crew lists, and release schedules\n",
        "5. **Variety Insight**\n",
        "Fee-based. Metadata for more than 6 million TV programs and movies, TV and celebrity images, and social media pages. Includes development in the  next 12, 24 to 36 months\n",
        "6. **Kaggle**\n",
        "A Google-owned data science portal with many datasets, including TMDB 5000 Movie Dataset\n",
        "\n",
        "\n",
        "\n"
      ],
      "metadata": {
        "id": "YkSsSOpDQAYa"
      }
    },
    {
      "cell_type": "markdown",
      "source": [
        "**IMPORT LIBRARY**"
      ],
      "metadata": {
        "id": "kAhWmYkOAwWR"
      }
    },
    {
      "cell_type": "code",
      "source": [
        "import pandas as pd"
      ],
      "metadata": {
        "id": "PQloL8AIA0VE"
      },
      "execution_count": 2,
      "outputs": []
    },
    {
      "cell_type": "code",
      "source": [
        "import numpy as np"
      ],
      "metadata": {
        "id": "pOB8Ecw-A7-2"
      },
      "execution_count": 3,
      "outputs": []
    },
    {
      "cell_type": "markdown",
      "source": [
        "**import dataset**"
      ],
      "metadata": {
        "id": "A8eT-TQzBpKh"
      }
    },
    {
      "cell_type": "code",
      "source": [
        "df=pd.read_csv('https://github.com/YBI-Foundation/Dataset/blob/main/Movies%20Recommendation.csv',on_bad_lines='skip')"
      ],
      "metadata": {
        "id": "H5ZLuAv8Bu1J"
      },
      "execution_count": 19,
      "outputs": []
    },
    {
      "cell_type": "code",
      "source": [
        "df.head()"
      ],
      "metadata": {
        "colab": {
          "base_uri": "https://localhost:8080/",
          "height": 206
        },
        "id": "WzzSnRtKAjSw",
        "outputId": "d555ce34-205c-4a94-cfab-5231cee222cf"
      },
      "execution_count": 20,
      "outputs": [
        {
          "output_type": "execute_result",
          "data": {
            "text/plain": [
              "                                     <!DOCTYPE html>\n",
              "0  <html lang=\"en\" data-color-mode=\"auto\" data-li...\n",
              "1                                             <head>\n",
              "2                             <meta charset=\"utf-8\">\n",
              "3    <link rel=\"dns-prefetch\" href=\"https://githu...\n",
              "4    <link rel=\"dns-prefetch\" href=\"https://avata..."
            ],
            "text/html": [
              "\n",
              "  <div id=\"df-88beae22-17da-4463-afe9-d8ac34990430\">\n",
              "    <div class=\"colab-df-container\">\n",
              "      <div>\n",
              "<style scoped>\n",
              "    .dataframe tbody tr th:only-of-type {\n",
              "        vertical-align: middle;\n",
              "    }\n",
              "\n",
              "    .dataframe tbody tr th {\n",
              "        vertical-align: top;\n",
              "    }\n",
              "\n",
              "    .dataframe thead th {\n",
              "        text-align: right;\n",
              "    }\n",
              "</style>\n",
              "<table border=\"1\" class=\"dataframe\">\n",
              "  <thead>\n",
              "    <tr style=\"text-align: right;\">\n",
              "      <th></th>\n",
              "      <th>&lt;!DOCTYPE html&gt;</th>\n",
              "    </tr>\n",
              "  </thead>\n",
              "  <tbody>\n",
              "    <tr>\n",
              "      <th>0</th>\n",
              "      <td>&lt;html lang=\"en\" data-color-mode=\"auto\" data-li...</td>\n",
              "    </tr>\n",
              "    <tr>\n",
              "      <th>1</th>\n",
              "      <td>&lt;head&gt;</td>\n",
              "    </tr>\n",
              "    <tr>\n",
              "      <th>2</th>\n",
              "      <td>&lt;meta charset=\"utf-8\"&gt;</td>\n",
              "    </tr>\n",
              "    <tr>\n",
              "      <th>3</th>\n",
              "      <td>&lt;link rel=\"dns-prefetch\" href=\"https://githu...</td>\n",
              "    </tr>\n",
              "    <tr>\n",
              "      <th>4</th>\n",
              "      <td>&lt;link rel=\"dns-prefetch\" href=\"https://avata...</td>\n",
              "    </tr>\n",
              "  </tbody>\n",
              "</table>\n",
              "</div>\n",
              "      <button class=\"colab-df-convert\" onclick=\"convertToInteractive('df-88beae22-17da-4463-afe9-d8ac34990430')\"\n",
              "              title=\"Convert this dataframe to an interactive table.\"\n",
              "              style=\"display:none;\">\n",
              "        \n",
              "  <svg xmlns=\"http://www.w3.org/2000/svg\" height=\"24px\"viewBox=\"0 0 24 24\"\n",
              "       width=\"24px\">\n",
              "    <path d=\"M0 0h24v24H0V0z\" fill=\"none\"/>\n",
              "    <path d=\"M18.56 5.44l.94 2.06.94-2.06 2.06-.94-2.06-.94-.94-2.06-.94 2.06-2.06.94zm-11 1L8.5 8.5l.94-2.06 2.06-.94-2.06-.94L8.5 2.5l-.94 2.06-2.06.94zm10 10l.94 2.06.94-2.06 2.06-.94-2.06-.94-.94-2.06-.94 2.06-2.06.94z\"/><path d=\"M17.41 7.96l-1.37-1.37c-.4-.4-.92-.59-1.43-.59-.52 0-1.04.2-1.43.59L10.3 9.45l-7.72 7.72c-.78.78-.78 2.05 0 2.83L4 21.41c.39.39.9.59 1.41.59.51 0 1.02-.2 1.41-.59l7.78-7.78 2.81-2.81c.8-.78.8-2.07 0-2.86zM5.41 20L4 18.59l7.72-7.72 1.47 1.35L5.41 20z\"/>\n",
              "  </svg>\n",
              "      </button>\n",
              "      \n",
              "  <style>\n",
              "    .colab-df-container {\n",
              "      display:flex;\n",
              "      flex-wrap:wrap;\n",
              "      gap: 12px;\n",
              "    }\n",
              "\n",
              "    .colab-df-convert {\n",
              "      background-color: #E8F0FE;\n",
              "      border: none;\n",
              "      border-radius: 50%;\n",
              "      cursor: pointer;\n",
              "      display: none;\n",
              "      fill: #1967D2;\n",
              "      height: 32px;\n",
              "      padding: 0 0 0 0;\n",
              "      width: 32px;\n",
              "    }\n",
              "\n",
              "    .colab-df-convert:hover {\n",
              "      background-color: #E2EBFA;\n",
              "      box-shadow: 0px 1px 2px rgba(60, 64, 67, 0.3), 0px 1px 3px 1px rgba(60, 64, 67, 0.15);\n",
              "      fill: #174EA6;\n",
              "    }\n",
              "\n",
              "    [theme=dark] .colab-df-convert {\n",
              "      background-color: #3B4455;\n",
              "      fill: #D2E3FC;\n",
              "    }\n",
              "\n",
              "    [theme=dark] .colab-df-convert:hover {\n",
              "      background-color: #434B5C;\n",
              "      box-shadow: 0px 1px 3px 1px rgba(0, 0, 0, 0.15);\n",
              "      filter: drop-shadow(0px 1px 2px rgba(0, 0, 0, 0.3));\n",
              "      fill: #FFFFFF;\n",
              "    }\n",
              "  </style>\n",
              "\n",
              "      <script>\n",
              "        const buttonEl =\n",
              "          document.querySelector('#df-88beae22-17da-4463-afe9-d8ac34990430 button.colab-df-convert');\n",
              "        buttonEl.style.display =\n",
              "          google.colab.kernel.accessAllowed ? 'block' : 'none';\n",
              "\n",
              "        async function convertToInteractive(key) {\n",
              "          const element = document.querySelector('#df-88beae22-17da-4463-afe9-d8ac34990430');\n",
              "          const dataTable =\n",
              "            await google.colab.kernel.invokeFunction('convertToInteractive',\n",
              "                                                     [key], {});\n",
              "          if (!dataTable) return;\n",
              "\n",
              "          const docLinkHtml = 'Like what you see? Visit the ' +\n",
              "            '<a target=\"_blank\" href=https://colab.research.google.com/notebooks/data_table.ipynb>data table notebook</a>'\n",
              "            + ' to learn more about interactive tables.';\n",
              "          element.innerHTML = '';\n",
              "          dataTable['output_type'] = 'display_data';\n",
              "          await google.colab.output.renderOutput(dataTable, element);\n",
              "          const docLink = document.createElement('div');\n",
              "          docLink.innerHTML = docLinkHtml;\n",
              "          element.appendChild(docLink);\n",
              "        }\n",
              "      </script>\n",
              "    </div>\n",
              "  </div>\n",
              "  "
            ]
          },
          "metadata": {},
          "execution_count": 20
        }
      ]
    },
    {
      "cell_type": "code",
      "source": [
        "df.info()"
      ],
      "metadata": {
        "colab": {
          "base_uri": "https://localhost:8080/"
        },
        "id": "ojysaxs4Gm63",
        "outputId": "f081c119-882d-49d3-b254-a35ef502b876"
      },
      "execution_count": 22,
      "outputs": [
        {
          "output_type": "stream",
          "name": "stdout",
          "text": [
            "<class 'pandas.core.frame.DataFrame'>\n",
            "RangeIndex: 1083 entries, 0 to 1082\n",
            "Data columns (total 1 columns):\n",
            " #   Column           Non-Null Count  Dtype \n",
            "---  ------           --------------  ----- \n",
            " 0   <!DOCTYPE html>  1083 non-null   object\n",
            "dtypes: object(1)\n",
            "memory usage: 8.6+ KB\n"
          ]
        }
      ]
    },
    {
      "cell_type": "code",
      "source": [
        "df.shape"
      ],
      "metadata": {
        "colab": {
          "base_uri": "https://localhost:8080/"
        },
        "id": "8gU9Qx_t94XN",
        "outputId": "c872b287-66a6-4375-a528-d7c2efb7c712"
      },
      "execution_count": 23,
      "outputs": [
        {
          "output_type": "execute_result",
          "data": {
            "text/plain": [
              "(1083, 1)"
            ]
          },
          "metadata": {},
          "execution_count": 23
        }
      ]
    },
    {
      "cell_type": "code",
      "source": [
        "df.columns"
      ],
      "metadata": {
        "colab": {
          "base_uri": "https://localhost:8080/"
        },
        "id": "QgUEivTs9lEy",
        "outputId": "c6157a5b-f057-40bd-f08b-cc717a91259e"
      },
      "execution_count": 25,
      "outputs": [
        {
          "output_type": "execute_result",
          "data": {
            "text/plain": [
              "Index(['<!DOCTYPE html>'], dtype='object')"
            ]
          },
          "metadata": {},
          "execution_count": 25
        }
      ]
    },
    {
      "cell_type": "markdown",
      "source": [
        "**Get Feature Text Conversions To Token**"
      ],
      "metadata": {
        "id": "c8P2_F2eJXh1"
      }
    },
    {
      "cell_type": "code",
      "source": [
        "from sklearn.feature_extraction.text import TfidfVectorizer"
      ],
      "metadata": {
        "id": "RSCHCRy2SpI9"
      },
      "execution_count": 62,
      "outputs": []
    },
    {
      "cell_type": "code",
      "source": [
        "Tfidf = TfidfVectorizer()"
      ],
      "metadata": {
        "id": "Tgg5pwhBTKHj"
      },
      "execution_count": 52,
      "outputs": []
    },
    {
      "cell_type": "code",
      "source": [
        "TfidfVectorizer = Tfidf.fit_transform"
      ],
      "metadata": {
        "id": "kkQ6ck1PT2TQ"
      },
      "execution_count": 64,
      "outputs": []
    },
    {
      "cell_type": "code",
      "source": [
        "print(TfidfVectorizer)"
      ],
      "metadata": {
        "colab": {
          "base_uri": "https://localhost:8080/"
        },
        "id": "UgnK2tkvT3VF",
        "outputId": "7c9f6224-7313-4294-ffe7-cdf08dbc75c5"
      },
      "execution_count": 69,
      "outputs": [
        {
          "output_type": "stream",
          "name": "stdout",
          "text": [
            "<bound method TfidfVectorizer.fit_transform of TfidfVectorizer()>\n"
          ]
        }
      ]
    },
    {
      "cell_type": "markdown",
      "source": [
        "**Get Similarity Score Using Cosine Similarity**\n",
        "\n",
        "* Cosine_Similarity Computes The L2 Normalized dot Product Of Vectors. Euclidean(L2) Normalization Projects The Vector Onto The Unit Sphere.\n",
        "* And their dot product is then the cosine of the angle between the points denoted by the vectors.   \n",
        "\n"
      ],
      "metadata": {
        "id": "1TjdnIslVyEI"
      }
    },
    {
      "cell_type": "code",
      "source": [
        "from sklearn.metrics.pairwise import cosine_similarity"
      ],
      "metadata": {
        "id": "PAZaWWwEXBBx"
      },
      "execution_count": 70,
      "outputs": []
    },
    {
      "cell_type": "code",
      "source": [
        "Similarity_Score = cosine_similarity"
      ],
      "metadata": {
        "id": "2OzWfPoHXVAb"
      },
      "execution_count": 71,
      "outputs": []
    },
    {
      "cell_type": "code",
      "source": [
        "Similarity_Score"
      ],
      "metadata": {
        "colab": {
          "base_uri": "https://localhost:8080/"
        },
        "id": "vTrSEvZuXnSc",
        "outputId": "4804e974-78fa-4917-80d1-eeede4745941"
      },
      "execution_count": 72,
      "outputs": [
        {
          "output_type": "execute_result",
          "data": {
            "text/plain": [
              "<function sklearn.metrics.pairwise.cosine_similarity(X, Y=None, dense_output=True)>"
            ]
          },
          "metadata": {},
          "execution_count": 72
        }
      ]
    },
    {
      "cell_type": "markdown",
      "source": [
        "**Get Movie Name as input user and Validate for Closest Spelling**"
      ],
      "metadata": {
        "id": "ssAqVYSvbW7T"
      }
    },
    {
      "cell_type": "code",
      "source": [
        "Favourite_Movie_Name=input('Enter your favourite movie name:')"
      ],
      "metadata": {
        "colab": {
          "base_uri": "https://localhost:8080/"
        },
        "id": "cCcy0x16butP",
        "outputId": "77a91acb-d53e-4155-ca6e-89d8c3ee061b"
      },
      "execution_count": 116,
      "outputs": [
        {
          "name": "stdout",
          "output_type": "stream",
          "text": [
            "Enter your favourite movie name:avtar\n"
          ]
        }
      ]
    },
    {
      "cell_type": "code",
      "source": [
        "class Video():\n",
        "    \"\"\"This class created for both common info movies and series\"\"\"\n",
        "    def __init__(self, movie_title, story_line, url_poster, url_trailer, badge):\n",
        "        self.title = movie_title\n",
        "        self.storyline = story_line\n",
        "        self.poster = url_poster\n",
        "        self.trailer = url_trailer"
      ],
      "metadata": {
        "id": "WInJsFm8cM58"
      },
      "execution_count": 103,
      "outputs": []
    },
    {
      "cell_type": "code",
      "source": [
        "import difflib"
      ],
      "metadata": {
        "id": "SQKlQOn-dvjX"
      },
      "execution_count": 104,
      "outputs": []
    },
    {
      "cell_type": "markdown",
      "source": [
        "**Get All Movie Sort Based on Recommendation Score Wrt Favourite Movie**"
      ],
      "metadata": {
        "id": "WoKF6srwqUdu"
      }
    },
    {
      "cell_type": "code",
      "source": [
        "#sorting the movies based on their similarity score\n",
        "sorted_similar_movies = sorted(recommnedation_score, key= lambda x: x[1], reverse=true)\n",
        "print(sorted_similar_movies)"
      ],
      "metadata": {
        "id": "gvdTAR55qirm"
      },
      "execution_count": null,
      "outputs": []
    },
    {
      "cell_type": "code",
      "source": [
        "#print the name of similar movies based on the index\n",
        "print('top 30 movies suggested for you: \\n')\n",
        "  i==1:\n",
        "   for movie in sorted_similar_movies:\n",
        "      index=movie[0]\n",
        "      title_from_index=df[df.index==index]['movie_title'].values[0]\n",
        "if i<31:\n",
        "     print(i,'.', title_from_index)\n",
        "     i+=1"
      ],
      "metadata": {
        "colab": {
          "base_uri": "https://localhost:8080/",
          "height": 135
        },
        "id": "kSW6lkPKraeE",
        "outputId": "de0998c8-e5a3-458c-eff2-fcd4a3986364"
      },
      "execution_count": 149,
      "outputs": [
        {
          "output_type": "error",
          "ename": "IndentationError",
          "evalue": "ignored",
          "traceback": [
            "\u001b[0;36m  File \u001b[0;32m\"<ipython-input-149-a771fd06a8e1>\"\u001b[0;36m, line \u001b[0;32m3\u001b[0m\n\u001b[0;31m    i==1:\u001b[0m\n\u001b[0m    ^\u001b[0m\n\u001b[0;31mIndentationError\u001b[0m\u001b[0;31m:\u001b[0m unexpected indent\n"
          ]
        }
      ]
    },
    {
      "cell_type": "markdown",
      "source": [
        "**Top 10 Movie Recommendation System**"
      ],
      "metadata": {
        "id": "l68W_SLju28y"
      }
    },
    {
      "cell_type": "code",
      "source": [
        "from pandas.core.arrays.arrow.array import Any\n",
        "Movie_Name = input('enter your favourite movie name:')\n",
        "list_of_all_titles = df['Movie_Title'].tolist()\n",
        "Find_close_match=difflib.get_close_matches(movie_name, list_of_all_titles)\n",
        "close_match = find_close_match[0]\n",
        "index_of_Movie=df[df.Movie_title == Close_Match]['Movie_Id'].values[0]\n",
        "Movie_Recommendation = list(enumerate(Similarity_Score[index_of_Movie]))\n",
        "sorted_similar_movies = sorted(Movie_Recommendation, key = lambda x :x[1], reverse = true)\n",
        "\n",
        "print ('top 10 movies suggested for you :\\n')\n",
        "i = 1\n",
        "for movie in sorted_similar_movies:\n",
        "  index = movie[0]\n",
        "  title_from_index = df[df.movie_Id==index]['movie_title'].values\n",
        "  if(i<11):\n",
        "    print(i, '.', title_from_index)\n",
        "    i+=1\n"
      ],
      "metadata": {
        "id": "Tzm8P75wu961"
      },
      "execution_count": null,
      "outputs": []
    }
  ]
}